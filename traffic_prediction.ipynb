{
 "cells": [
  {
   "cell_type": "code",
   "execution_count": 1,
   "id": "63962bd4",
   "metadata": {},
   "outputs": [],
   "source": [
    "#import liberaries\n",
    "import numpy as np\n",
    "import pandas as pd\n",
    "import matplotlib.pyplot as plt"
   ]
  },
  {
   "cell_type": "code",
   "execution_count": 2,
   "id": "14ba08b4",
   "metadata": {},
   "outputs": [],
   "source": [
    "#import dataset\n",
    "data=pd.read_csv(\"dataset.txt\")"
   ]
  },
  {
   "cell_type": "code",
   "execution_count": 3,
   "id": "01e802c5",
   "metadata": {},
   "outputs": [
    {
     "data": {
      "text/html": [
       "<div>\n",
       "<style scoped>\n",
       "    .dataframe tbody tr th:only-of-type {\n",
       "        vertical-align: middle;\n",
       "    }\n",
       "\n",
       "    .dataframe tbody tr th {\n",
       "        vertical-align: top;\n",
       "    }\n",
       "\n",
       "    .dataframe thead th {\n",
       "        text-align: right;\n",
       "    }\n",
       "</style>\n",
       "<table border=\"1\" class=\"dataframe\">\n",
       "  <thead>\n",
       "    <tr style=\"text-align: right;\">\n",
       "      <th></th>\n",
       "      <th>Date</th>\n",
       "      <th>Day</th>\n",
       "      <th>CodedDay</th>\n",
       "      <th>Zone</th>\n",
       "      <th>Weather</th>\n",
       "      <th>Temperature</th>\n",
       "      <th>Traffic</th>\n",
       "    </tr>\n",
       "  </thead>\n",
       "  <tbody>\n",
       "    <tr>\n",
       "      <th>0</th>\n",
       "      <td>1-01-2017</td>\n",
       "      <td>Sunday</td>\n",
       "      <td>7</td>\n",
       "      <td>1</td>\n",
       "      <td>21</td>\n",
       "      <td>17</td>\n",
       "      <td>1</td>\n",
       "    </tr>\n",
       "    <tr>\n",
       "      <th>1</th>\n",
       "      <td>1-01-2017</td>\n",
       "      <td>Sunday</td>\n",
       "      <td>7</td>\n",
       "      <td>2</td>\n",
       "      <td>12</td>\n",
       "      <td>34</td>\n",
       "      <td>2</td>\n",
       "    </tr>\n",
       "    <tr>\n",
       "      <th>2</th>\n",
       "      <td>1-01-2017</td>\n",
       "      <td>Sunday</td>\n",
       "      <td>7</td>\n",
       "      <td>3</td>\n",
       "      <td>25</td>\n",
       "      <td>24</td>\n",
       "      <td>2</td>\n",
       "    </tr>\n",
       "    <tr>\n",
       "      <th>3</th>\n",
       "      <td>1-01-2017</td>\n",
       "      <td>Sunday</td>\n",
       "      <td>7</td>\n",
       "      <td>4</td>\n",
       "      <td>46</td>\n",
       "      <td>41</td>\n",
       "      <td>4</td>\n",
       "    </tr>\n",
       "    <tr>\n",
       "      <th>4</th>\n",
       "      <td>1-01-2017</td>\n",
       "      <td>Sunday</td>\n",
       "      <td>7</td>\n",
       "      <td>5</td>\n",
       "      <td>33</td>\n",
       "      <td>19</td>\n",
       "      <td>3</td>\n",
       "    </tr>\n",
       "    <tr>\n",
       "      <th>...</th>\n",
       "      <td>...</td>\n",
       "      <td>...</td>\n",
       "      <td>...</td>\n",
       "      <td>...</td>\n",
       "      <td>...</td>\n",
       "      <td>...</td>\n",
       "      <td>...</td>\n",
       "    </tr>\n",
       "    <tr>\n",
       "      <th>53850</th>\n",
       "      <td>10-06-2018</td>\n",
       "      <td>Friday</td>\n",
       "      <td>5</td>\n",
       "      <td>140</td>\n",
       "      <td>47</td>\n",
       "      <td>38</td>\n",
       "      <td>1</td>\n",
       "    </tr>\n",
       "    <tr>\n",
       "      <th>53851</th>\n",
       "      <td>10-06-2018</td>\n",
       "      <td>Friday</td>\n",
       "      <td>5</td>\n",
       "      <td>141</td>\n",
       "      <td>15</td>\n",
       "      <td>8</td>\n",
       "      <td>4</td>\n",
       "    </tr>\n",
       "    <tr>\n",
       "      <th>53852</th>\n",
       "      <td>10-06-2018</td>\n",
       "      <td>Friday</td>\n",
       "      <td>5</td>\n",
       "      <td>142</td>\n",
       "      <td>26</td>\n",
       "      <td>38</td>\n",
       "      <td>1</td>\n",
       "    </tr>\n",
       "    <tr>\n",
       "      <th>53853</th>\n",
       "      <td>10-06-2018</td>\n",
       "      <td>Friday</td>\n",
       "      <td>5</td>\n",
       "      <td>143</td>\n",
       "      <td>16</td>\n",
       "      <td>34</td>\n",
       "      <td>3</td>\n",
       "    </tr>\n",
       "    <tr>\n",
       "      <th>53854</th>\n",
       "      <td>10-06-2018</td>\n",
       "      <td>Friday</td>\n",
       "      <td>5</td>\n",
       "      <td>144</td>\n",
       "      <td>16</td>\n",
       "      <td>17</td>\n",
       "      <td>1</td>\n",
       "    </tr>\n",
       "  </tbody>\n",
       "</table>\n",
       "<p>53855 rows × 7 columns</p>\n",
       "</div>"
      ],
      "text/plain": [
       "             Date     Day  CodedDay  Zone  Weather  Temperature  Traffic\n",
       "0       1-01-2017  Sunday         7     1       21           17        1\n",
       "1       1-01-2017  Sunday         7     2       12           34        2\n",
       "2       1-01-2017  Sunday         7     3       25           24        2\n",
       "3       1-01-2017  Sunday         7     4       46           41        4\n",
       "4       1-01-2017  Sunday         7     5       33           19        3\n",
       "...           ...     ...       ...   ...      ...          ...      ...\n",
       "53850  10-06-2018  Friday         5   140       47           38        1\n",
       "53851  10-06-2018  Friday         5   141       15            8        4\n",
       "53852  10-06-2018  Friday         5   142       26           38        1\n",
       "53853  10-06-2018  Friday         5   143       16           34        3\n",
       "53854  10-06-2018  Friday         5   144       16           17        1\n",
       "\n",
       "[53855 rows x 7 columns]"
      ]
     },
     "execution_count": 3,
     "metadata": {},
     "output_type": "execute_result"
    }
   ],
   "source": [
    "data"
   ]
  },
  {
   "cell_type": "code",
   "execution_count": 4,
   "id": "ac517869",
   "metadata": {},
   "outputs": [
    {
     "data": {
      "text/plain": [
       "<bound method NDFrame.head of              Date     Day  CodedDay  Zone  Weather  Temperature  Traffic\n",
       "0       1-01-2017  Sunday         7     1       21           17        1\n",
       "1       1-01-2017  Sunday         7     2       12           34        2\n",
       "2       1-01-2017  Sunday         7     3       25           24        2\n",
       "3       1-01-2017  Sunday         7     4       46           41        4\n",
       "4       1-01-2017  Sunday         7     5       33           19        3\n",
       "...           ...     ...       ...   ...      ...          ...      ...\n",
       "53850  10-06-2018  Friday         5   140       47           38        1\n",
       "53851  10-06-2018  Friday         5   141       15            8        4\n",
       "53852  10-06-2018  Friday         5   142       26           38        1\n",
       "53853  10-06-2018  Friday         5   143       16           34        3\n",
       "53854  10-06-2018  Friday         5   144       16           17        1\n",
       "\n",
       "[53855 rows x 7 columns]>"
      ]
     },
     "execution_count": 4,
     "metadata": {},
     "output_type": "execute_result"
    }
   ],
   "source": [
    "data.head"
   ]
  },
  {
   "cell_type": "code",
   "execution_count": 5,
   "id": "14313b84",
   "metadata": {},
   "outputs": [
    {
     "data": {
      "text/html": [
       "<div>\n",
       "<style scoped>\n",
       "    .dataframe tbody tr th:only-of-type {\n",
       "        vertical-align: middle;\n",
       "    }\n",
       "\n",
       "    .dataframe tbody tr th {\n",
       "        vertical-align: top;\n",
       "    }\n",
       "\n",
       "    .dataframe thead th {\n",
       "        text-align: right;\n",
       "    }\n",
       "</style>\n",
       "<table border=\"1\" class=\"dataframe\">\n",
       "  <thead>\n",
       "    <tr style=\"text-align: right;\">\n",
       "      <th></th>\n",
       "      <th>Date</th>\n",
       "      <th>Day</th>\n",
       "      <th>CodedDay</th>\n",
       "      <th>Zone</th>\n",
       "      <th>Weather</th>\n",
       "      <th>Temperature</th>\n",
       "      <th>Traffic</th>\n",
       "    </tr>\n",
       "  </thead>\n",
       "  <tbody>\n",
       "    <tr>\n",
       "      <th>53845</th>\n",
       "      <td>10-06-2018</td>\n",
       "      <td>Friday</td>\n",
       "      <td>5</td>\n",
       "      <td>135</td>\n",
       "      <td>18</td>\n",
       "      <td>25</td>\n",
       "      <td>4</td>\n",
       "    </tr>\n",
       "    <tr>\n",
       "      <th>53846</th>\n",
       "      <td>10-06-2018</td>\n",
       "      <td>Friday</td>\n",
       "      <td>5</td>\n",
       "      <td>136</td>\n",
       "      <td>31</td>\n",
       "      <td>8</td>\n",
       "      <td>2</td>\n",
       "    </tr>\n",
       "    <tr>\n",
       "      <th>53847</th>\n",
       "      <td>10-06-2018</td>\n",
       "      <td>Friday</td>\n",
       "      <td>5</td>\n",
       "      <td>137</td>\n",
       "      <td>13</td>\n",
       "      <td>11</td>\n",
       "      <td>4</td>\n",
       "    </tr>\n",
       "    <tr>\n",
       "      <th>53848</th>\n",
       "      <td>10-06-2018</td>\n",
       "      <td>Friday</td>\n",
       "      <td>5</td>\n",
       "      <td>138</td>\n",
       "      <td>34</td>\n",
       "      <td>15</td>\n",
       "      <td>1</td>\n",
       "    </tr>\n",
       "    <tr>\n",
       "      <th>53849</th>\n",
       "      <td>10-06-2018</td>\n",
       "      <td>Friday</td>\n",
       "      <td>5</td>\n",
       "      <td>139</td>\n",
       "      <td>5</td>\n",
       "      <td>43</td>\n",
       "      <td>4</td>\n",
       "    </tr>\n",
       "    <tr>\n",
       "      <th>53850</th>\n",
       "      <td>10-06-2018</td>\n",
       "      <td>Friday</td>\n",
       "      <td>5</td>\n",
       "      <td>140</td>\n",
       "      <td>47</td>\n",
       "      <td>38</td>\n",
       "      <td>1</td>\n",
       "    </tr>\n",
       "    <tr>\n",
       "      <th>53851</th>\n",
       "      <td>10-06-2018</td>\n",
       "      <td>Friday</td>\n",
       "      <td>5</td>\n",
       "      <td>141</td>\n",
       "      <td>15</td>\n",
       "      <td>8</td>\n",
       "      <td>4</td>\n",
       "    </tr>\n",
       "    <tr>\n",
       "      <th>53852</th>\n",
       "      <td>10-06-2018</td>\n",
       "      <td>Friday</td>\n",
       "      <td>5</td>\n",
       "      <td>142</td>\n",
       "      <td>26</td>\n",
       "      <td>38</td>\n",
       "      <td>1</td>\n",
       "    </tr>\n",
       "    <tr>\n",
       "      <th>53853</th>\n",
       "      <td>10-06-2018</td>\n",
       "      <td>Friday</td>\n",
       "      <td>5</td>\n",
       "      <td>143</td>\n",
       "      <td>16</td>\n",
       "      <td>34</td>\n",
       "      <td>3</td>\n",
       "    </tr>\n",
       "    <tr>\n",
       "      <th>53854</th>\n",
       "      <td>10-06-2018</td>\n",
       "      <td>Friday</td>\n",
       "      <td>5</td>\n",
       "      <td>144</td>\n",
       "      <td>16</td>\n",
       "      <td>17</td>\n",
       "      <td>1</td>\n",
       "    </tr>\n",
       "  </tbody>\n",
       "</table>\n",
       "</div>"
      ],
      "text/plain": [
       "             Date     Day  CodedDay  Zone  Weather  Temperature  Traffic\n",
       "53845  10-06-2018  Friday         5   135       18           25        4\n",
       "53846  10-06-2018  Friday         5   136       31            8        2\n",
       "53847  10-06-2018  Friday         5   137       13           11        4\n",
       "53848  10-06-2018  Friday         5   138       34           15        1\n",
       "53849  10-06-2018  Friday         5   139        5           43        4\n",
       "53850  10-06-2018  Friday         5   140       47           38        1\n",
       "53851  10-06-2018  Friday         5   141       15            8        4\n",
       "53852  10-06-2018  Friday         5   142       26           38        1\n",
       "53853  10-06-2018  Friday         5   143       16           34        3\n",
       "53854  10-06-2018  Friday         5   144       16           17        1"
      ]
     },
     "execution_count": 5,
     "metadata": {},
     "output_type": "execute_result"
    }
   ],
   "source": [
    "data.tail(10)"
   ]
  },
  {
   "cell_type": "code",
   "execution_count": 6,
   "id": "41d7a139",
   "metadata": {},
   "outputs": [
    {
     "name": "stdout",
     "output_type": "stream",
     "text": [
      "<class 'pandas.core.frame.DataFrame'>\n",
      "RangeIndex: 53855 entries, 0 to 53854\n",
      "Data columns (total 7 columns):\n",
      " #   Column       Non-Null Count  Dtype \n",
      "---  ------       --------------  ----- \n",
      " 0   Date         53855 non-null  object\n",
      " 1   Day          53855 non-null  object\n",
      " 2   CodedDay     53855 non-null  int64 \n",
      " 3   Zone         53855 non-null  int64 \n",
      " 4   Weather      53855 non-null  int64 \n",
      " 5   Temperature  53855 non-null  int64 \n",
      " 6   Traffic      53855 non-null  int64 \n",
      "dtypes: int64(5), object(2)\n",
      "memory usage: 2.9+ MB\n"
     ]
    }
   ],
   "source": [
    "data.info()"
   ]
  },
  {
   "cell_type": "code",
   "execution_count": 7,
   "id": "bc9ab675",
   "metadata": {},
   "outputs": [],
   "source": [
    "from sklearn.preprocessing import LabelEncoder"
   ]
  },
  {
   "cell_type": "code",
   "execution_count": 8,
   "id": "79650a72",
   "metadata": {},
   "outputs": [],
   "source": [
    "le= LabelEncoder()"
   ]
  },
  {
   "cell_type": "code",
   "execution_count": 9,
   "id": "8bdcf25c",
   "metadata": {},
   "outputs": [
    {
     "data": {
      "text/html": [
       "<div>\n",
       "<style scoped>\n",
       "    .dataframe tbody tr th:only-of-type {\n",
       "        vertical-align: middle;\n",
       "    }\n",
       "\n",
       "    .dataframe tbody tr th {\n",
       "        vertical-align: top;\n",
       "    }\n",
       "\n",
       "    .dataframe thead th {\n",
       "        text-align: right;\n",
       "    }\n",
       "</style>\n",
       "<table border=\"1\" class=\"dataframe\">\n",
       "  <thead>\n",
       "    <tr style=\"text-align: right;\">\n",
       "      <th></th>\n",
       "      <th>Date</th>\n",
       "      <th>Day</th>\n",
       "      <th>CodedDay</th>\n",
       "      <th>Zone</th>\n",
       "      <th>Weather</th>\n",
       "      <th>Temperature</th>\n",
       "      <th>Traffic</th>\n",
       "    </tr>\n",
       "  </thead>\n",
       "  <tbody>\n",
       "    <tr>\n",
       "      <th>0</th>\n",
       "      <td>0</td>\n",
       "      <td>Sunday</td>\n",
       "      <td>7</td>\n",
       "      <td>1</td>\n",
       "      <td>21</td>\n",
       "      <td>17</td>\n",
       "      <td>1</td>\n",
       "    </tr>\n",
       "    <tr>\n",
       "      <th>1</th>\n",
       "      <td>0</td>\n",
       "      <td>Sunday</td>\n",
       "      <td>7</td>\n",
       "      <td>2</td>\n",
       "      <td>12</td>\n",
       "      <td>34</td>\n",
       "      <td>2</td>\n",
       "    </tr>\n",
       "    <tr>\n",
       "      <th>2</th>\n",
       "      <td>0</td>\n",
       "      <td>Sunday</td>\n",
       "      <td>7</td>\n",
       "      <td>3</td>\n",
       "      <td>25</td>\n",
       "      <td>24</td>\n",
       "      <td>2</td>\n",
       "    </tr>\n",
       "    <tr>\n",
       "      <th>3</th>\n",
       "      <td>0</td>\n",
       "      <td>Sunday</td>\n",
       "      <td>7</td>\n",
       "      <td>4</td>\n",
       "      <td>46</td>\n",
       "      <td>41</td>\n",
       "      <td>4</td>\n",
       "    </tr>\n",
       "    <tr>\n",
       "      <th>4</th>\n",
       "      <td>0</td>\n",
       "      <td>Sunday</td>\n",
       "      <td>7</td>\n",
       "      <td>5</td>\n",
       "      <td>33</td>\n",
       "      <td>19</td>\n",
       "      <td>3</td>\n",
       "    </tr>\n",
       "    <tr>\n",
       "      <th>...</th>\n",
       "      <td>...</td>\n",
       "      <td>...</td>\n",
       "      <td>...</td>\n",
       "      <td>...</td>\n",
       "      <td>...</td>\n",
       "      <td>...</td>\n",
       "      <td>...</td>\n",
       "    </tr>\n",
       "    <tr>\n",
       "      <th>53850</th>\n",
       "      <td>19</td>\n",
       "      <td>Friday</td>\n",
       "      <td>5</td>\n",
       "      <td>140</td>\n",
       "      <td>47</td>\n",
       "      <td>38</td>\n",
       "      <td>1</td>\n",
       "    </tr>\n",
       "    <tr>\n",
       "      <th>53851</th>\n",
       "      <td>19</td>\n",
       "      <td>Friday</td>\n",
       "      <td>5</td>\n",
       "      <td>141</td>\n",
       "      <td>15</td>\n",
       "      <td>8</td>\n",
       "      <td>4</td>\n",
       "    </tr>\n",
       "    <tr>\n",
       "      <th>53852</th>\n",
       "      <td>19</td>\n",
       "      <td>Friday</td>\n",
       "      <td>5</td>\n",
       "      <td>142</td>\n",
       "      <td>26</td>\n",
       "      <td>38</td>\n",
       "      <td>1</td>\n",
       "    </tr>\n",
       "    <tr>\n",
       "      <th>53853</th>\n",
       "      <td>19</td>\n",
       "      <td>Friday</td>\n",
       "      <td>5</td>\n",
       "      <td>143</td>\n",
       "      <td>16</td>\n",
       "      <td>34</td>\n",
       "      <td>3</td>\n",
       "    </tr>\n",
       "    <tr>\n",
       "      <th>53854</th>\n",
       "      <td>19</td>\n",
       "      <td>Friday</td>\n",
       "      <td>5</td>\n",
       "      <td>144</td>\n",
       "      <td>16</td>\n",
       "      <td>17</td>\n",
       "      <td>1</td>\n",
       "    </tr>\n",
       "  </tbody>\n",
       "</table>\n",
       "<p>53855 rows × 7 columns</p>\n",
       "</div>"
      ],
      "text/plain": [
       "       Date     Day  CodedDay  Zone  Weather  Temperature  Traffic\n",
       "0         0  Sunday         7     1       21           17        1\n",
       "1         0  Sunday         7     2       12           34        2\n",
       "2         0  Sunday         7     3       25           24        2\n",
       "3         0  Sunday         7     4       46           41        4\n",
       "4         0  Sunday         7     5       33           19        3\n",
       "...     ...     ...       ...   ...      ...          ...      ...\n",
       "53850    19  Friday         5   140       47           38        1\n",
       "53851    19  Friday         5   141       15            8        4\n",
       "53852    19  Friday         5   142       26           38        1\n",
       "53853    19  Friday         5   143       16           34        3\n",
       "53854    19  Friday         5   144       16           17        1\n",
       "\n",
       "[53855 rows x 7 columns]"
      ]
     },
     "execution_count": 9,
     "metadata": {},
     "output_type": "execute_result"
    }
   ],
   "source": [
    "data['Date']=le.fit_transform(data['Date'])\n",
    "data"
   ]
  },
  {
   "cell_type": "code",
   "execution_count": 10,
   "id": "0550977b",
   "metadata": {},
   "outputs": [
    {
     "name": "stdout",
     "output_type": "stream",
     "text": [
      "<class 'pandas.core.frame.DataFrame'>\n",
      "RangeIndex: 53855 entries, 0 to 53854\n",
      "Data columns (total 7 columns):\n",
      " #   Column       Non-Null Count  Dtype \n",
      "---  ------       --------------  ----- \n",
      " 0   Date         53855 non-null  int32 \n",
      " 1   Day          53855 non-null  object\n",
      " 2   CodedDay     53855 non-null  int64 \n",
      " 3   Zone         53855 non-null  int64 \n",
      " 4   Weather      53855 non-null  int64 \n",
      " 5   Temperature  53855 non-null  int64 \n",
      " 6   Traffic      53855 non-null  int64 \n",
      "dtypes: int32(1), int64(5), object(1)\n",
      "memory usage: 2.7+ MB\n"
     ]
    }
   ],
   "source": [
    "data.info()"
   ]
  },
  {
   "cell_type": "code",
   "execution_count": 17,
   "id": "6754f9a9",
   "metadata": {},
   "outputs": [],
   "source": [
    "x=data.iloc[:,2:6].values\n",
    "y=data.iloc[:,6:7].values"
   ]
  },
  {
   "cell_type": "code",
   "execution_count": 18,
   "id": "f2cd0560",
   "metadata": {},
   "outputs": [
    {
     "data": {
      "text/plain": [
       "array([[  7,   1,  21,  17],\n",
       "       [  7,   2,  12,  34],\n",
       "       [  7,   3,  25,  24],\n",
       "       ...,\n",
       "       [  5, 142,  26,  38],\n",
       "       [  5, 143,  16,  34],\n",
       "       [  5, 144,  16,  17]], dtype=int64)"
      ]
     },
     "execution_count": 18,
     "metadata": {},
     "output_type": "execute_result"
    }
   ],
   "source": [
    "x"
   ]
  },
  {
   "cell_type": "code",
   "execution_count": 19,
   "id": "6a63fddf",
   "metadata": {},
   "outputs": [
    {
     "data": {
      "text/plain": [
       "(53855, 4)"
      ]
     },
     "execution_count": 19,
     "metadata": {},
     "output_type": "execute_result"
    }
   ],
   "source": [
    "x.shape"
   ]
  },
  {
   "cell_type": "code",
   "execution_count": 20,
   "id": "2b12a42c",
   "metadata": {},
   "outputs": [
    {
     "data": {
      "text/plain": [
       "array([[1],\n",
       "       [2],\n",
       "       [2],\n",
       "       ...,\n",
       "       [1],\n",
       "       [3],\n",
       "       [1]], dtype=int64)"
      ]
     },
     "execution_count": 20,
     "metadata": {},
     "output_type": "execute_result"
    }
   ],
   "source": [
    "y"
   ]
  },
  {
   "cell_type": "code",
   "execution_count": 21,
   "id": "68391b8c",
   "metadata": {},
   "outputs": [
    {
     "data": {
      "text/plain": [
       "(53855, 1)"
      ]
     },
     "execution_count": 21,
     "metadata": {},
     "output_type": "execute_result"
    }
   ],
   "source": [
    "y.shape"
   ]
  },
  {
   "cell_type": "code",
   "execution_count": 22,
   "id": "c582bf75",
   "metadata": {},
   "outputs": [],
   "source": [
    "from sklearn.model_selection import train_test_split"
   ]
  },
  {
   "cell_type": "code",
   "execution_count": 23,
   "id": "c9102c24",
   "metadata": {},
   "outputs": [],
   "source": [
    "x_train,x_test,y_train,y_test = train_test_split(x,y, test_size=0.20, random_state=0)"
   ]
  },
  {
   "cell_type": "code",
   "execution_count": 24,
   "id": "40add35d",
   "metadata": {},
   "outputs": [
    {
     "data": {
      "text/plain": [
       "((43084, 4), (10771, 4), (43084, 1), (10771, 1))"
      ]
     },
     "execution_count": 24,
     "metadata": {},
     "output_type": "execute_result"
    }
   ],
   "source": [
    "x_train.shape,x_test.shape,y_train.shape,y_test.shape"
   ]
  },
  {
   "cell_type": "code",
   "execution_count": 26,
   "id": "e352c890",
   "metadata": {},
   "outputs": [],
   "source": [
    "#feature scaling for normalizing the data\n",
    "from sklearn.preprocessing import StandardScaler"
   ]
  },
  {
   "cell_type": "code",
   "execution_count": 27,
   "id": "b650390e",
   "metadata": {},
   "outputs": [],
   "source": [
    "sc = StandardScaler()"
   ]
  },
  {
   "cell_type": "code",
   "execution_count": 28,
   "id": "c6e7e8a1",
   "metadata": {},
   "outputs": [],
   "source": [
    "x_train = sc.fit_transform(x_train)\n",
    "x_test = sc.fit_transform(x_test)"
   ]
  },
  {
   "cell_type": "code",
   "execution_count": 29,
   "id": "89e1603f",
   "metadata": {},
   "outputs": [
    {
     "data": {
      "text/plain": [
       "array([[-0.50328978, -0.89977971,  1.63173364,  1.50876306],\n",
       "       [-0.50328978,  0.88153753, -0.25265695,  1.50876306],\n",
       "       [-0.50328978, -0.851636  , -1.26732881, -1.69056234],\n",
       "       ...,\n",
       "       [-1.50626102,  1.48333389, -0.97742257,  1.16289004],\n",
       "       [-1.50626102,  0.18345375, -0.18018039,  0.12527099],\n",
       "       [-0.00180416,  1.65183688,  1.26935084, -1.34468933]])"
      ]
     },
     "execution_count": 29,
     "metadata": {},
     "output_type": "execute_result"
    }
   ],
   "source": [
    "x_train"
   ]
  },
  {
   "cell_type": "code",
   "execution_count": 30,
   "id": "50b0bec5",
   "metadata": {},
   "outputs": [],
   "source": [
    "#random forest\n",
    "from sklearn.ensemble import RandomForestRegressor\n",
    "regressor=RandomForestRegressor(n_estimators=300,random_state=0)"
   ]
  },
  {
   "cell_type": "code",
   "execution_count": 31,
   "id": "d9525d14",
   "metadata": {},
   "outputs": [
    {
     "name": "stderr",
     "output_type": "stream",
     "text": [
      "<ipython-input-31-923b4e1a10f6>:1: DataConversionWarning: A column-vector y was passed when a 1d array was expected. Please change the shape of y to (n_samples,), for example using ravel().\n",
      "  regressor.fit(x_train,y_train)\n"
     ]
    },
    {
     "data": {
      "text/plain": [
       "RandomForestRegressor(n_estimators=300, random_state=0)"
      ]
     },
     "execution_count": 31,
     "metadata": {},
     "output_type": "execute_result"
    }
   ],
   "source": [
    "regressor.fit(x_train,y_train)"
   ]
  },
  {
   "cell_type": "code",
   "execution_count": 32,
   "id": "56fdc5e0",
   "metadata": {},
   "outputs": [],
   "source": [
    "y_pred=regressor.predict(x_test)"
   ]
  },
  {
   "cell_type": "code",
   "execution_count": 33,
   "id": "bc4aca22",
   "metadata": {},
   "outputs": [
    {
     "data": {
      "text/plain": [
       "array([3.24666667, 3.30333333, 3.42666667, ..., 2.25222222, 3.52      ,\n",
       "       2.99666667])"
      ]
     },
     "execution_count": 33,
     "metadata": {},
     "output_type": "execute_result"
    }
   ],
   "source": [
    "y_pred"
   ]
  },
  {
   "cell_type": "code",
   "execution_count": 34,
   "id": "418b8d43",
   "metadata": {},
   "outputs": [
    {
     "data": {
      "text/plain": [
       "array([3., 3., 3., ..., 2., 3., 2.])"
      ]
     },
     "execution_count": 34,
     "metadata": {},
     "output_type": "execute_result"
    }
   ],
   "source": [
    "if(y_pred.all()<2.5):\n",
    "    y_pred=np.round(y_pred-0.5)\n",
    "else:\n",
    "    y_pred=np.round(y_pred+0.5)\n",
    "y_pred"
   ]
  },
  {
   "cell_type": "code",
   "execution_count": 35,
   "id": "23da6f0f",
   "metadata": {},
   "outputs": [
    {
     "name": "stdout",
     "output_type": "stream",
     "text": [
      "Error=  13.43 %\n"
     ]
    }
   ],
   "source": [
    "df=(y_pred-y_test)/y_test\n",
    "df=round(df.mean()*100,2)\n",
    "print(\"Error= \", df,\"%\")"
   ]
  },
  {
   "cell_type": "code",
   "execution_count": 36,
   "id": "8afb3313",
   "metadata": {},
   "outputs": [
    {
     "name": "stdout",
     "output_type": "stream",
     "text": [
      "Accuracy=  86.57 %\n"
     ]
    }
   ],
   "source": [
    "acc = 100-df\n",
    "print(\"Accuracy= \", acc,\"%\")"
   ]
  },
  {
   "cell_type": "code",
   "execution_count": 37,
   "id": "04bab52a",
   "metadata": {},
   "outputs": [
    {
     "name": "stderr",
     "output_type": "stream",
     "text": [
      "C:\\Users\\satwi\\anaconda3\\lib\\site-packages\\sklearn\\utils\\validation.py:63: DataConversionWarning: A column-vector y was passed when a 1d array was expected. Please change the shape of y to (n_samples, ), for example using ravel().\n",
      "  return f(*args, **kwargs)\n"
     ]
    },
    {
     "data": {
      "text/plain": [
       "array([2.94814622, 3.02676688, 2.93469726, ..., 2.94603306, 2.95457788,\n",
       "       3.01643261])"
      ]
     },
     "execution_count": 37,
     "metadata": {},
     "output_type": "execute_result"
    }
   ],
   "source": [
    "#SVM(Support Vector Machine)\n",
    "from sklearn.svm import SVR\n",
    "regressor=SVR(kernel='rbf')\n",
    "regressor.fit(x_train,y_train)\n",
    "\n",
    "y_pred=regressor.predict(x_test)\n",
    "y_pred"
   ]
  },
  {
   "cell_type": "code",
   "execution_count": 38,
   "id": "40af4337",
   "metadata": {},
   "outputs": [
    {
     "data": {
      "text/plain": [
       "array([2., 3., 2., ..., 2., 2., 3.])"
      ]
     },
     "execution_count": 38,
     "metadata": {},
     "output_type": "execute_result"
    }
   ],
   "source": [
    "if(y_pred.all()<2.5):\n",
    "    y_pred=np.round(y_pred-0.5)\n",
    "else:\n",
    "    y_pred=np.round(y_pred+0.5)\n",
    "y_pred"
   ]
  },
  {
   "cell_type": "code",
   "execution_count": 39,
   "id": "eeffc92d",
   "metadata": {},
   "outputs": [
    {
     "name": "stdout",
     "output_type": "stream",
     "text": [
      "Error=  11.29 %\n"
     ]
    }
   ],
   "source": [
    "df=(y_pred-y_test)/y_test\n",
    "df=round(df.mean()*100,2)\n",
    "print(\"Error= \", df,\"%\")"
   ]
  },
  {
   "cell_type": "code",
   "execution_count": 40,
   "id": "faf50d04",
   "metadata": {},
   "outputs": [
    {
     "name": "stdout",
     "output_type": "stream",
     "text": [
      "Accuracy=  88.71000000000001 %\n"
     ]
    }
   ],
   "source": [
    "acc = 100-df\n",
    "print(\"Accuracy= \", acc,\"%\")"
   ]
  },
  {
   "cell_type": "code",
   "execution_count": null,
   "id": "ff9429d3",
   "metadata": {},
   "outputs": [],
   "source": []
  }
 ],
 "metadata": {
  "kernelspec": {
   "display_name": "Python 3",
   "language": "python",
   "name": "python3"
  },
  "language_info": {
   "codemirror_mode": {
    "name": "ipython",
    "version": 3
   },
   "file_extension": ".py",
   "mimetype": "text/x-python",
   "name": "python",
   "nbconvert_exporter": "python",
   "pygments_lexer": "ipython3",
   "version": "3.8.8"
  }
 },
 "nbformat": 4,
 "nbformat_minor": 5
}
